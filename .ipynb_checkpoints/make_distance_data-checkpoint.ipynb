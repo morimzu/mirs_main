{
 "cells": [
  {
   "cell_type": "code",
   "execution_count": 2,
   "metadata": {},
   "outputs": [],
   "source": [
    "# 机とMIRS本体の位置関係をデータとして保存するためのモジュール\n",
    "# MIRS本体の動作とは関係ないが走行制御に用いるモジュール作成のために作成した\n",
    "\n",
    "import cv2\n",
    "from ssd_model import detect\n",
    "from camera import get_image\n",
    "import pandas as pd\n",
    "from random import randint"
   ]
  },
  {
   "cell_type": "code",
   "execution_count": null,
   "metadata": {},
   "outputs": [
    {
     "name": "stdout",
     "output_type": "stream",
     "text": [
      "\n",
      "<camera module>\n",
      "\n",
      "<recognize module>\n",
      "[10, 726.80475, 389.88965, 400.43035888671875, 478.909423828125]\n",
      "IData collection has already been completed for a distance of 10cm\n",
      "Next Distance is 20cm\n",
      "If you are ready press any keys and press Enter.\n"
     ]
    }
   ],
   "source": [
    "if __name__ == \"__main__\":\n",
    "    objects = []\n",
    "    count = 0\n",
    "\n",
    "    for j in [10,20,30,40,50,60,70,80,90,100]:\n",
    "\n",
    "        img = get_image()\n",
    "        #img = './VOCdevkit/DESK/JPEGImages/deskImage_' + (\"0000\" + str(randint(0,425)))[-5:] + \".jpg\"\n",
    "        image = cv2.imread(img, cv2.IMREAD_COLOR)\n",
    "        labels, boxs = detect(image, count)\n",
    "        \n",
    "        if boxs == False:\n",
    "            objects.append([10,None,None,None,None])\n",
    "            continue\n",
    "        \n",
    "        for box in boxs:\n",
    "            objects.append([j, box.x_pos, box.y_pos, box.width, box.height])\n",
    "            pd.DataFrame(objects)\n",
    "            \n",
    "        count += 1\n",
    "        print(\"IData collection has already been completed for a distance of {}cm\".format(j))\n",
    "        if j is not 100:\n",
    "            print(\"Next Distance is {}cm\".format(j+10))\n",
    "        print(\"If you are ready press any keys and press Enter.\")\n",
    "\n",
    "        input()\n",
    "\n",
    "    df = pd.DataFrame(objects,\n",
    "        columns=['dist', 'x_pos', 'y_pos', 'width', 'height'])\n",
    "\n",
    "    df.to_csv(\"ObjectDistanceDatas.csv\")"
   ]
  },
  {
   "cell_type": "code",
   "execution_count": 12,
   "metadata": {},
   "outputs": [
    {
     "data": {
      "text/html": [
       "<div>\n",
       "<style scoped>\n",
       "    .dataframe tbody tr th:only-of-type {\n",
       "        vertical-align: middle;\n",
       "    }\n",
       "\n",
       "    .dataframe tbody tr th {\n",
       "        vertical-align: top;\n",
       "    }\n",
       "\n",
       "    .dataframe thead th {\n",
       "        text-align: right;\n",
       "    }\n",
       "</style>\n",
       "<table border=\"1\" class=\"dataframe\">\n",
       "  <thead>\n",
       "    <tr style=\"text-align: right;\">\n",
       "      <th></th>\n",
       "      <th>Unnamed: 0</th>\n",
       "      <th>dist</th>\n",
       "      <th>x_pos</th>\n",
       "      <th>y_pos</th>\n",
       "      <th>width</th>\n",
       "      <th>height</th>\n",
       "    </tr>\n",
       "  </thead>\n",
       "  <tbody>\n",
       "    <tr>\n",
       "      <th>0</th>\n",
       "      <td>0</td>\n",
       "      <td>20</td>\n",
       "      <td>405.278900</td>\n",
       "      <td>670.648926</td>\n",
       "      <td>1016.871216</td>\n",
       "      <td>458.443115</td>\n",
       "    </tr>\n",
       "    <tr>\n",
       "      <th>1</th>\n",
       "      <td>1</td>\n",
       "      <td>30</td>\n",
       "      <td>412.251251</td>\n",
       "      <td>591.781677</td>\n",
       "      <td>1004.525757</td>\n",
       "      <td>511.420349</td>\n",
       "    </tr>\n",
       "    <tr>\n",
       "      <th>2</th>\n",
       "      <td>2</td>\n",
       "      <td>40</td>\n",
       "      <td>506.146545</td>\n",
       "      <td>550.593872</td>\n",
       "      <td>835.912415</td>\n",
       "      <td>542.680054</td>\n",
       "    </tr>\n",
       "    <tr>\n",
       "      <th>3</th>\n",
       "      <td>3</td>\n",
       "      <td>50</td>\n",
       "      <td>564.551819</td>\n",
       "      <td>526.209290</td>\n",
       "      <td>717.844055</td>\n",
       "      <td>551.956360</td>\n",
       "    </tr>\n",
       "    <tr>\n",
       "      <th>4</th>\n",
       "      <td>4</td>\n",
       "      <td>60</td>\n",
       "      <td>592.231384</td>\n",
       "      <td>472.525665</td>\n",
       "      <td>637.028015</td>\n",
       "      <td>609.021851</td>\n",
       "    </tr>\n",
       "    <tr>\n",
       "      <th>5</th>\n",
       "      <td>5</td>\n",
       "      <td>70</td>\n",
       "      <td>591.858215</td>\n",
       "      <td>440.081421</td>\n",
       "      <td>563.168152</td>\n",
       "      <td>623.879272</td>\n",
       "    </tr>\n",
       "    <tr>\n",
       "      <th>6</th>\n",
       "      <td>6</td>\n",
       "      <td>80</td>\n",
       "      <td>665.516052</td>\n",
       "      <td>400.238342</td>\n",
       "      <td>491.006165</td>\n",
       "      <td>570.535095</td>\n",
       "    </tr>\n",
       "    <tr>\n",
       "      <th>7</th>\n",
       "      <td>7</td>\n",
       "      <td>90</td>\n",
       "      <td>701.247070</td>\n",
       "      <td>395.268707</td>\n",
       "      <td>442.014771</td>\n",
       "      <td>515.680420</td>\n",
       "    </tr>\n",
       "    <tr>\n",
       "      <th>8</th>\n",
       "      <td>8</td>\n",
       "      <td>100</td>\n",
       "      <td>727.514893</td>\n",
       "      <td>393.189545</td>\n",
       "      <td>402.819702</td>\n",
       "      <td>473.287201</td>\n",
       "    </tr>\n",
       "  </tbody>\n",
       "</table>\n",
       "</div>"
      ],
      "text/plain": [
       "   Unnamed: 0  dist       x_pos       y_pos        width      height\n",
       "0           0    20  405.278900  670.648926  1016.871216  458.443115\n",
       "1           1    30  412.251251  591.781677  1004.525757  511.420349\n",
       "2           2    40  506.146545  550.593872   835.912415  542.680054\n",
       "3           3    50  564.551819  526.209290   717.844055  551.956360\n",
       "4           4    60  592.231384  472.525665   637.028015  609.021851\n",
       "5           5    70  591.858215  440.081421   563.168152  623.879272\n",
       "6           6    80  665.516052  400.238342   491.006165  570.535095\n",
       "7           7    90  701.247070  395.268707   442.014771  515.680420\n",
       "8           8   100  727.514893  393.189545   402.819702  473.287201"
      ]
     },
     "execution_count": 12,
     "metadata": {},
     "output_type": "execute_result"
    }
   ],
   "source": [
    "df = pd.read_csv(\"ObjectDistanceDatas.csv\")\n",
    "df"
   ]
  },
  {
   "cell_type": "code",
   "execution_count": 13,
   "metadata": {},
   "outputs": [
    {
     "data": {
      "text/plain": [
       "<AxesSubplot:>"
      ]
     },
     "execution_count": 13,
     "metadata": {},
     "output_type": "execute_result"
    },
    {
     "data": {
      "image/png": "[encoded data removed]",
      "text/plain": [
       "<Figure size 432x288 with 1 Axes>"
      ]
     },
     "metadata": {
      "needs_background": "light"
     },
     "output_type": "display_data"
    }
   ],
   "source": [
    "df.plot(y=['width'])"
   ]
  },
  {
   "cell_type": "code",
   "execution_count": null,
   "metadata": {},
   "outputs": [],
   "source": []
  }
 ],
 "metadata": {
  "kernelspec": {
   "display_name": "Python 3",
   "language": "python",
   "name": "python3"
  },
  "language_info": {
   "codemirror_mode": {
    "name": "ipython",
    "version": 3
   },
   "file_extension": ".py",
   "mimetype": "text/x-python",
   "name": "python",
   "nbconvert_exporter": "python",
   "pygments_lexer": "ipython3",
   "version": "3.6.12"
  }
 },
 "nbformat": 4,
 "nbformat_minor": 4
}
