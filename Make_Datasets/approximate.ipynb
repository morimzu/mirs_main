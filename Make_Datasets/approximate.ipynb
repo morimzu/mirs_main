{
 "cells": [
  {
   "cell_type": "code",
   "execution_count": 4,
   "metadata": {},
   "outputs": [
    {
     "name": "stdout",
     "output_type": "stream",
     "text": [
      "-2.926248954531113e-07x^3+0.00022142753424471068x^2+-0.06554813728015337x+9.489125808473728\n"
     ]
    },
    {
     "data": {
      "image/png": "[encoded data removed]",
      "text/plain": [
       "<Figure size 432x288 with 1 Axes>"
      ]
     },
     "metadata": {
      "needs_background": "light"
     },
     "output_type": "display_data"
    }
   ],
   "source": [
    "import numpy as np\n",
    "from matplotlib import pyplot as plt\n",
    "import pandas as pd\n",
    "\n",
    "if __name__ == \"__main__\":\n",
    "    df = pd.read_csv(\"../data/ObjectDistanceDatas_pc.csv\")\n",
    "    df = df[['dist', 'width']].query('dist >= 100')\n",
    "    x = df['dist']\n",
    "    y = df['width']\n",
    "    \n",
    "    x_lim = np.linspace(0,200,1000)\n",
    "    \n",
    "    #近似式の係数\n",
    "    res1=np.polyfit(x, y, 1)\n",
    "    res2=np.polyfit(x, y, 2)\n",
    "    res3=np.polyfit(x, y, 3)\n",
    "    res4=np.polyfit(x, y, 4)\n",
    "    res5=np.polyfit(x, y, 5)\n",
    "    res6=np.polyfit(x, y, 6)\n",
    "    res7=np.polyfit(x, y, 7)\n",
    "    \n",
    "    #近似式の計算\n",
    "    y1 = np.poly1d(res1)(x_lim) #1次\n",
    "    y2 = np.poly1d(res2)(x_lim) #2次\n",
    "    y3 = np.poly1d(res3)(x_lim) #3次\n",
    "    y4 = np.poly1d(res4)(x_lim)\n",
    "    y5 = np.poly1d(res5)(x_lim)\n",
    "    y6 = np.poly1d(res6)(x_lim)\n",
    "    y7 = np.poly1d(res7)(x_lim)\n",
    "    \n",
    "\n",
    "    #グラフ表示\n",
    "    plt.scatter(x, y, label='original')\n",
    "    #plt.plot(x_lim, y1, label='1dim')\n",
    "    #plt.plot(x_lim, y2, label='2dim')\n",
    "    #plt.plot(x_lim, y3, label='3dim')\n",
    "    plt.plot(x_lim, y4, label='4dim')\n",
    "    #plt.plot(x_lim, y5, label='5dim')\n",
    "    #plt.plot(x_lim, y6, label='6dim')\n",
    "    #plt.plot(x_lim, y7, label='7dim')\n",
    "    \n",
    "    \n",
    "    print(\"{}x^3+{}x^2+{}x+{}\".format(res5[0], res5[1], res5[2], res5[3], res5[4], res5[5]))\n",
    "    \n",
    "    Determination_factors = [res2[0], res2[1], res2[2]]\n",
    "    df=pd.DataFrame([[res4[0], res4[1], res4[2], res4[3], res4[4]]], columns=['4dim','3dim', '2dim', '1dim', '0dim'])\n",
    "    df.to_csv(\"../data/Determination_factors_pc.csv\", index=False)\n",
    "    plt.legend()\n",
    "    plt.show()"
   ]
  },
  {
   "cell_type": "code",
   "execution_count": null,
   "metadata": {},
   "outputs": [],
   "source": [
    "import numpy as np\n",
    "from matplotlib import pyplot as plt\n",
    "import pandas as pd\n",
    "\n",
    "if __name__ == \"__main__\":\n",
    "    df = pd.read_csv(\"../data/ObjectDistanceDatas.csv\")\n",
    "    df = df[['dist', 'width']].query('dist >= 100')\n",
    "    x = df['dist']\n",
    "    y = df['width']\n",
    "    \n",
    "    x_lim = np.linspace(0,200,1000)\n",
    "    \n",
    "    #近似式の係数\n",
    "    res1=np.polyfit(x, y, 1)\n",
    "    res2=np.polyfit(x, y, 2)\n",
    "    res3=np.polyfit(x, y, 3)\n",
    "    res4=np.polyfit(x, y, 4)\n",
    "    res5=np.polyfit(x, y, 5)\n",
    "    res6=np.polyfit(x, y, 6)\n",
    "    res7=np.polyfit(x, y, 7)\n",
    "    \n",
    "    #近似式の計算\n",
    "    y1 = np.poly1d(res1)(x_lim) #1次\n",
    "    y2 = np.poly1d(res2)(x_lim) #2次\n",
    "    y3 = np.poly1d(res3)(x_lim) #3次\n",
    "    y4 = np.poly1d(res4)(x_lim)\n",
    "    y5 = np.poly1d(res5)(x_lim)\n",
    "    y6 = np.poly1d(res6)(x_lim)\n",
    "    y7 = np.poly1d(res7)(x_lim)\n",
    "    \n",
    "\n",
    "    #グラフ表示\n",
    "    plt.scatter(x, y, label='original')\n",
    "    #plt.plot(x_lim, y1, label='1dim')\n",
    "    #plt.plot(x_lim, y2, label='2dim')\n",
    "    #plt.plot(x_lim, y3, label='3dim')\n",
    "    plt.plot(x_lim, y4, label='4dim')\n",
    "    #plt.plot(x_lim, y5, label='5dim')\n",
    "    #plt.plot(x_lim, y6, label='6dim')\n",
    "    #plt.plot(x_lim, y7, label='7dim')\n",
    "    \n",
    "    \n",
    "    print(\"{}x^3+{}x^2+{}x+{}\".format(res5[0], res5[1], res5[2], res5[3], res5[4], res5[5]))\n",
    "    \n",
    "    Determination_factors = [res2[0], res2[1], res2[2]]\n",
    "    df=pd.DataFrame([[res4[0], res4[1], res4[2], res4[3], res4[4]]], columns=['4dim','3dim', '2dim', '1dim', '0dim'])\n",
    "    df.to_csv(\"../data/Determination_factors.csv\", index=False)\n",
    "    plt.legend()\n",
    "    plt.show()"
   ]
  }
 ],
 "metadata": {
  "kernelspec": {
   "display_name": "Python 3",
   "language": "python",
   "name": "python3"
  },
  "language_info": {
   "codemirror_mode": {
    "name": "ipython",
    "version": 3
   },
   "file_extension": ".py",
   "mimetype": "text/x-python",
   "name": "python",
   "nbconvert_exporter": "python",
   "pygments_lexer": "ipython3",
   "version": "3.6.12"
  }
 },
 "nbformat": 4,
 "nbformat_minor": 4
}