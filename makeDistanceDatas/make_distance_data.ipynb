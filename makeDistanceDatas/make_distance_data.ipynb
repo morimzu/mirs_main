{
 "cells": [
  {
   "cell_type": "code",
   "execution_count": 62,
   "metadata": {},
   "outputs": [],
   "source": [
    "# 机とMIRS本体の位置関係をデータとして保存するためのモジュール\n",
    "# MIRS本体の動作とは関係ないが走行制御に用いるモジュール作成のために作成した\n",
    "\n",
    "import cv2\n",
    "from ssd_model import detect\n",
    "from camera import get_image\n",
    "import pandas as pd\n",
    "from random import randint\n",
    "import os"
   ]
  },
  {
   "cell_type": "code",
   "execution_count": 75,
   "metadata": {},
   "outputs": [
    {
     "name": "stdout",
     "output_type": "stream",
     "text": [
      "\n",
      "<camera module>\n",
      "\n",
      "<recognize module>\n",
      "Data collection has already been completed for a distance of 10cm\n",
      "Next Distance is 20cm\n",
      "If you are ready press any keys and Enter.\n",
      "\n",
      "<camera module>\n",
      "\n",
      "<recognize module>\n",
      "Data collection has already been completed for a distance of 10cm\n",
      "Next Distance is 20cm\n",
      "If you are ready press any keys and Enter.\n",
      "\n",
      "<camera module>\n",
      "\n",
      "<recognize module>\n",
      "Data collection has already been completed for a distance of 10cm\n",
      "Next Distance is 20cm\n",
      "If you are ready press any keys and Enter.\n",
      "\n",
      "<camera module>\n",
      "\n",
      "<recognize module>\n",
      "Data collection has already been completed for a distance of 10cm\n",
      "Next Distance is 20cm\n",
      "If you are ready press any keys and Enter.\n",
      "\n",
      "<camera module>\n",
      "\n",
      "<recognize module>\n",
      "Data collection has already been completed for a distance of 10cm\n",
      "Next Distance is 20cm\n",
      "If you are ready press any keys and Enter.\n"
     ]
    },
    {
     "name": "stdin",
     "output_type": "stream",
     "text": [
      " \n"
     ]
    },
    {
     "name": "stdout",
     "output_type": "stream",
     "text": [
      "\n",
      "<camera module>\n",
      "\n",
      "<recognize module>\n",
      "Data collection has already been completed for a distance of 20cm\n",
      "Next Distance is 30cm\n",
      "If you are ready press any keys and Enter.\n",
      "\n",
      "<camera module>\n",
      "\n",
      "<recognize module>\n",
      "Data collection has already been completed for a distance of 20cm\n",
      "Next Distance is 30cm\n",
      "If you are ready press any keys and Enter.\n",
      "\n",
      "<camera module>\n",
      "\n",
      "<recognize module>\n",
      "Data collection has already been completed for a distance of 20cm\n",
      "Next Distance is 30cm\n",
      "If you are ready press any keys and Enter.\n",
      "\n",
      "<camera module>\n",
      "\n",
      "<recognize module>\n",
      "Data collection has already been completed for a distance of 20cm\n",
      "Next Distance is 30cm\n",
      "If you are ready press any keys and Enter.\n",
      "\n",
      "<camera module>\n",
      "\n",
      "<recognize module>\n",
      "Data collection has already been completed for a distance of 20cm\n",
      "Next Distance is 30cm\n",
      "If you are ready press any keys and Enter.\n"
     ]
    },
    {
     "name": "stdin",
     "output_type": "stream",
     "text": [
      " \n"
     ]
    },
    {
     "name": "stdout",
     "output_type": "stream",
     "text": [
      "\n",
      "<camera module>\n",
      "\n",
      "<recognize module>\n",
      "Data collection has already been completed for a distance of 30cm\n",
      "Next Distance is 40cm\n",
      "If you are ready press any keys and Enter.\n",
      "\n",
      "<camera module>\n",
      "\n",
      "<recognize module>\n",
      "Data collection has already been completed for a distance of 30cm\n",
      "Next Distance is 40cm\n",
      "If you are ready press any keys and Enter.\n",
      "\n",
      "<camera module>\n",
      "\n",
      "<recognize module>\n",
      "Data collection has already been completed for a distance of 30cm\n",
      "Next Distance is 40cm\n",
      "If you are ready press any keys and Enter.\n",
      "\n",
      "<camera module>\n",
      "\n",
      "<recognize module>\n",
      "Data collection has already been completed for a distance of 30cm\n",
      "Next Distance is 40cm\n",
      "If you are ready press any keys and Enter.\n",
      "\n",
      "<camera module>\n",
      "\n",
      "<recognize module>\n",
      "Data collection has already been completed for a distance of 30cm\n",
      "Next Distance is 40cm\n",
      "If you are ready press any keys and Enter.\n"
     ]
    },
    {
     "name": "stdin",
     "output_type": "stream",
     "text": [
      " \n"
     ]
    },
    {
     "name": "stdout",
     "output_type": "stream",
     "text": [
      "\n",
      "<camera module>\n",
      "\n",
      "<recognize module>\n",
      "Data collection has already been completed for a distance of 40cm\n",
      "Next Distance is 50cm\n",
      "If you are ready press any keys and Enter.\n",
      "\n",
      "<camera module>\n",
      "\n",
      "<recognize module>\n",
      "Data collection has already been completed for a distance of 40cm\n",
      "Next Distance is 50cm\n",
      "If you are ready press any keys and Enter.\n",
      "\n",
      "<camera module>\n",
      "\n",
      "<recognize module>\n",
      "Data collection has already been completed for a distance of 40cm\n",
      "Next Distance is 50cm\n",
      "If you are ready press any keys and Enter.\n",
      "\n",
      "<camera module>\n",
      "\n",
      "<recognize module>\n",
      "Data collection has already been completed for a distance of 40cm\n",
      "Next Distance is 50cm\n",
      "If you are ready press any keys and Enter.\n",
      "\n",
      "<camera module>\n",
      "\n",
      "<recognize module>\n",
      "Data collection has already been completed for a distance of 40cm\n",
      "Next Distance is 50cm\n",
      "If you are ready press any keys and Enter.\n"
     ]
    },
    {
     "name": "stdin",
     "output_type": "stream",
     "text": [
      " \n"
     ]
    },
    {
     "name": "stdout",
     "output_type": "stream",
     "text": [
      "\n",
      "<camera module>\n",
      "\n",
      "<recognize module>\n",
      "Data collection has already been completed for a distance of 50cm\n",
      "Next Distance is 60cm\n",
      "If you are ready press any keys and Enter.\n",
      "\n",
      "<camera module>\n",
      "\n",
      "<recognize module>\n",
      "Data collection has already been completed for a distance of 50cm\n",
      "Next Distance is 60cm\n",
      "If you are ready press any keys and Enter.\n",
      "\n",
      "<camera module>\n",
      "\n",
      "<recognize module>\n",
      "Data collection has already been completed for a distance of 50cm\n",
      "Next Distance is 60cm\n",
      "If you are ready press any keys and Enter.\n",
      "\n",
      "<camera module>\n",
      "\n",
      "<recognize module>\n",
      "Data collection has already been completed for a distance of 50cm\n",
      "Next Distance is 60cm\n",
      "If you are ready press any keys and Enter.\n",
      "\n",
      "<camera module>\n",
      "\n",
      "<recognize module>\n",
      "Data collection has already been completed for a distance of 50cm\n",
      "Next Distance is 60cm\n",
      "If you are ready press any keys and Enter.\n"
     ]
    },
    {
     "name": "stdin",
     "output_type": "stream",
     "text": [
      " \n"
     ]
    },
    {
     "name": "stdout",
     "output_type": "stream",
     "text": [
      "\n",
      "<camera module>\n",
      "\n",
      "<recognize module>\n",
      "Data collection has already been completed for a distance of 60cm\n",
      "Next Distance is 70cm\n",
      "If you are ready press any keys and Enter.\n",
      "\n",
      "<camera module>\n",
      "\n",
      "<recognize module>\n",
      "Data collection has already been completed for a distance of 60cm\n",
      "Next Distance is 70cm\n",
      "If you are ready press any keys and Enter.\n",
      "\n",
      "<camera module>\n",
      "\n",
      "<recognize module>\n",
      "Data collection has already been completed for a distance of 60cm\n",
      "Next Distance is 70cm\n",
      "If you are ready press any keys and Enter.\n",
      "\n",
      "<camera module>\n",
      "\n",
      "<recognize module>\n",
      "Data collection has already been completed for a distance of 60cm\n",
      "Next Distance is 70cm\n",
      "If you are ready press any keys and Enter.\n",
      "\n",
      "<camera module>\n",
      "\n",
      "<recognize module>\n",
      "Data collection has already been completed for a distance of 60cm\n",
      "Next Distance is 70cm\n",
      "If you are ready press any keys and Enter.\n"
     ]
    },
    {
     "name": "stdin",
     "output_type": "stream",
     "text": [
      " \n"
     ]
    },
    {
     "name": "stdout",
     "output_type": "stream",
     "text": [
      "\n",
      "<camera module>\n",
      "\n",
      "<recognize module>\n",
      "Data collection has already been completed for a distance of 70cm\n",
      "Next Distance is 80cm\n",
      "If you are ready press any keys and Enter.\n",
      "\n",
      "<camera module>\n",
      "\n",
      "<recognize module>\n",
      "Data collection has already been completed for a distance of 70cm\n",
      "Next Distance is 80cm\n",
      "If you are ready press any keys and Enter.\n",
      "\n",
      "<camera module>\n",
      "\n",
      "<recognize module>\n",
      "Data collection has already been completed for a distance of 70cm\n",
      "Next Distance is 80cm\n",
      "If you are ready press any keys and Enter.\n",
      "\n",
      "<camera module>\n",
      "\n",
      "<recognize module>\n",
      "Data collection has already been completed for a distance of 70cm\n",
      "Next Distance is 80cm\n",
      "If you are ready press any keys and Enter.\n",
      "\n",
      "<camera module>\n",
      "\n",
      "<recognize module>\n",
      "Data collection has already been completed for a distance of 70cm\n",
      "Next Distance is 80cm\n",
      "If you are ready press any keys and Enter.\n"
     ]
    },
    {
     "name": "stdin",
     "output_type": "stream",
     "text": [
      " \n"
     ]
    },
    {
     "name": "stdout",
     "output_type": "stream",
     "text": [
      "\n",
      "<camera module>\n",
      "\n",
      "<recognize module>\n",
      "Data collection has already been completed for a distance of 80cm\n",
      "Next Distance is 90cm\n",
      "If you are ready press any keys and Enter.\n",
      "\n",
      "<camera module>\n",
      "\n",
      "<recognize module>\n",
      "Data collection has already been completed for a distance of 80cm\n",
      "Next Distance is 90cm\n",
      "If you are ready press any keys and Enter.\n",
      "\n",
      "<camera module>\n",
      "\n",
      "<recognize module>\n",
      "Data collection has already been completed for a distance of 80cm\n",
      "Next Distance is 90cm\n",
      "If you are ready press any keys and Enter.\n",
      "\n",
      "<camera module>\n",
      "\n",
      "<recognize module>\n",
      "Data collection has already been completed for a distance of 80cm\n",
      "Next Distance is 90cm\n",
      "If you are ready press any keys and Enter.\n",
      "\n",
      "<camera module>\n",
      "\n",
      "<recognize module>\n",
      "Data collection has already been completed for a distance of 80cm\n",
      "Next Distance is 90cm\n",
      "If you are ready press any keys and Enter.\n"
     ]
    },
    {
     "name": "stdin",
     "output_type": "stream",
     "text": [
      " \n"
     ]
    },
    {
     "name": "stdout",
     "output_type": "stream",
     "text": [
      "\n",
      "<camera module>\n",
      "\n",
      "<recognize module>\n",
      "Data collection has already been completed for a distance of 90cm\n",
      "Next Distance is 100cm\n",
      "If you are ready press any keys and Enter.\n",
      "\n",
      "<camera module>\n",
      "\n",
      "<recognize module>\n",
      "Data collection has already been completed for a distance of 90cm\n",
      "Next Distance is 100cm\n",
      "If you are ready press any keys and Enter.\n",
      "\n",
      "<camera module>\n",
      "\n",
      "<recognize module>\n",
      "Data collection has already been completed for a distance of 90cm\n",
      "Next Distance is 100cm\n",
      "If you are ready press any keys and Enter.\n",
      "\n",
      "<camera module>\n",
      "\n",
      "<recognize module>\n",
      "Data collection has already been completed for a distance of 90cm\n",
      "Next Distance is 100cm\n",
      "If you are ready press any keys and Enter.\n",
      "\n",
      "<camera module>\n",
      "\n",
      "<recognize module>\n",
      "Data collection has already been completed for a distance of 90cm\n",
      "Next Distance is 100cm\n",
      "If you are ready press any keys and Enter.\n"
     ]
    },
    {
     "name": "stdin",
     "output_type": "stream",
     "text": [
      " \n"
     ]
    },
    {
     "name": "stdout",
     "output_type": "stream",
     "text": [
      "\n",
      "<camera module>\n",
      "\n",
      "<recognize module>\n",
      "Data collection has already been completed for a distance of 100cm\n",
      "Next Distance is 110cm\n",
      "If you are ready press any keys and Enter.\n",
      "\n",
      "<camera module>\n",
      "\n",
      "<recognize module>\n",
      "Data collection has already been completed for a distance of 100cm\n",
      "Next Distance is 110cm\n",
      "If you are ready press any keys and Enter.\n",
      "\n",
      "<camera module>\n",
      "\n",
      "<recognize module>\n",
      "Data collection has already been completed for a distance of 100cm\n",
      "Next Distance is 110cm\n",
      "If you are ready press any keys and Enter.\n",
      "\n",
      "<camera module>\n",
      "\n",
      "<recognize module>\n",
      "Data collection has already been completed for a distance of 100cm\n",
      "Next Distance is 110cm\n",
      "If you are ready press any keys and Enter.\n",
      "\n",
      "<camera module>\n",
      "\n",
      "<recognize module>\n",
      "Data collection has already been completed for a distance of 100cm\n",
      "Next Distance is 110cm\n",
      "If you are ready press any keys and Enter.\n"
     ]
    },
    {
     "name": "stdin",
     "output_type": "stream",
     "text": [
      " \n"
     ]
    },
    {
     "name": "stdout",
     "output_type": "stream",
     "text": [
      "    dist      x_pos      y_pos      width     height\n",
      "0     20  37.243504  56.022804  82.743790  37.431007\n",
      "2     20  49.285286  57.645557  80.588142  36.884960\n",
      "3     20  49.866867  57.670036  79.524841  36.832802\n",
      "4     20  49.820175  57.677795  80.079514  36.769325\n",
      "1     20  49.641613  57.747574  80.006149  36.738503\n",
      "..   ...        ...        ...        ...        ...\n",
      "16   100  59.893818  33.395153  39.066044  40.817738\n",
      "17   100  60.238525  33.578033  38.800003  40.527313\n",
      "43   100  61.027290  33.417755  38.241905  40.159889\n",
      "40   100  60.917870  33.557331  38.385193  40.294300\n",
      "44   100  60.968189  33.611282  38.310467  40.210510\n",
      "\n",
      "[63 rows x 5 columns]\n"
     ]
    }
   ],
   "source": [
    "if __name__ == \"__main__\":\n",
    "    count = 0\n",
    "    if os.path.isfile(\"../data/ObjectDistanceDatas.csv\"):\n",
    "        df1 = pd.read_csv(\"../data/ObjectDistanceDatas.csv\")\n",
    "    else:\n",
    "        print(\"I'll make ObjectDistanceDatas.csv file\")\n",
    "        df1 = pd.DataFrame([], columns=['dist', 'x_pos', 'y_pos', 'width', 'height'])\n",
    "    \n",
    "    dist = []\n",
    "    x_pos = []\n",
    "    y_pos = []\n",
    "    width = []\n",
    "    height = []\n",
    "    for i in range(10):\n",
    "        for j in range(5):\n",
    "            img = get_image()\n",
    "            #img = './VOCdevkit/DESK/JPEGImages/deskImage_' + (\"0000\" + str(randint(0,425)))[-5:] + \".jpg\" テスト用，既存のファイルかrあランダムにデータを引っ張ってきてどうっしているのか確認した．\n",
    "            image = cv2.imread(img, cv2.IMREAD_COLOR)\n",
    "            labels, boxs = detect(image, count)\n",
    "            for box in boxs:\n",
    "                dist += [(i+1)*10]\n",
    "                x_pos += [box.x_pos]\n",
    "                y_pos += [box.y_pos]\n",
    "                width += [box.width]\n",
    "                height += [box.height]\n",
    "                count += 1\n",
    "                \n",
    "        print(\"Data collection has already been completed for a distance of {}cm\".format((i+1)*10))\n",
    "        if i is not 10:\n",
    "            print(\"Next Distance is {}cm\".format((i+1)*10+10))\n",
    "        \n",
    "        print(\"If you are ready press any keys and Enter.\")\n",
    "\n",
    "        input()\n",
    "    df2 = pd.DataFrame(\n",
    "        data={'dist':dist, 'x_pos':x_pos, 'y_pos':y_pos, 'width':width, 'height':height},\n",
    "        columns=['dist', 'x_pos', 'y_pos', 'width', 'height']\n",
    "    )\n",
    "    \n",
    "    df = pd.concat([df1, df2], axis=0)\n",
    "    df = df.sort_values(by='dist', ascending=True)\n",
    "    print(df)\n",
    "    df.to_csv(\"../data/ObjectDistanceDatas.csv\", index=False)"
   ]
  },
  {
   "cell_type": "code",
   "execution_count": 76,
   "metadata": {},
   "outputs": [
    {
     "data": {
      "text/plain": [
       "<AxesSubplot:xlabel='dist', ylabel='width'>"
      ]
     },
     "execution_count": 76,
     "metadata": {},
     "output_type": "execute_result"
    },
    {
     "data": {
      "image/png": "[encoded data removed]",
      "text/plain": [
       "<Figure size 432x288 with 1 Axes>"
      ]
     },
     "metadata": {
      "needs_background": "light"
     },
     "output_type": "display_data"
    }
   ],
   "source": [
    "df.plot(kind='scatter', x='dist', y='width')"
   ]
  },
  {
   "cell_type": "code",
   "execution_count": null,
   "metadata": {},
   "outputs": [],
   "source": []
  }
 ],
 "metadata": {
  "kernelspec": {
   "display_name": "Python 3",
   "language": "python",
   "name": "python3"
  },
  "language_info": {
   "codemirror_mode": {
    "name": "ipython",
    "version": 3
   },
   "file_extension": ".py",
   "mimetype": "text/x-python",
   "name": "python",
   "nbconvert_exporter": "python",
   "pygments_lexer": "ipython3",
   "version": "3.6.12"
  }
 },
 "nbformat": 4,
 "nbformat_minor": 4
}
